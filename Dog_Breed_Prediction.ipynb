{
 "cells": [
  {
   "cell_type": "code",
   "execution_count": null,
   "metadata": {
    "id": "IJfUukN_kiEx"
   },
   "outputs": [],
   "source": [
    "\r\n",
    "from google.colab import files\r\n",
    "files.upload()"
   ]
  },
  {
   "cell_type": "code",
   "execution_count": null,
   "metadata": {
    "id": "m34QitafPDd5"
   },
   "outputs": [],
   "source": [
    "\n",
    "!pip install -q kaggle"
   ]
  },
  {
   "cell_type": "code",
   "execution_count": null,
   "metadata": {
    "id": "1js5PPVFPm-P"
   },
   "outputs": [],
   "source": [
    "\n",
    "!mkdir -p ~/.kaggle\r\n",
    "!cp kaggle.json ~/.kaggleup.\r\n",
    "!chmod 600 ~/.kaggle/kaggle.json"
   ]
  },
  {
   "cell_type": "code",
   "execution_count": null,
   "metadata": {
    "id": "F7hxbrceg3bC"
   },
   "outputs": [],
   "source": [
    "\n",
    "!mkdir dog_dataset\r\n",
    "%cd dog_dataset"
   ]
  },
  {
   "cell_type": "code",
   "execution_count": null,
   "metadata": {
    "id": "wi9hi_O7vEC-"
   },
   "outputs": [],
   "source": [
    "\n",
    "!kaggle datasets list -s dogbreedidfromcomp"
   ]
  },
  {
   "cell_type": "code",
   "execution_count": null,
   "metadata": {
    "id": "7U0drGHjfPyY"
   },
   "outputs": [],
   "source": [
    "\n",
    "!kaggle datasets download catherinehorng/dogbreedidfromcomp\r\n",
    "%cd .."
   ]
  },
  {
   "cell_type": "code",
   "execution_count": null,
   "metadata": {
    "id": "_G_S6-F1Qs-U"
   },
   "outputs": [],
   "source": [
    "\n",
    "!unzip dog_dataset/dogbreedidfromcomp.zip -d dog_dataset\r\n",
    "!rm dog_dataset/dogbreedidfromcomp.zip\r\n",
    "!rm dog_dataset/sample_submission.csv"
   ]
  },
  {
   "cell_type": "code",
   "execution_count": null,
   "metadata": {
    "id": "Ko_oKFfpvj8A"
   },
   "outputs": [],
   "source": [
    "\n",
    "import numpy as np \r\n",
    "import pandas as pd \r\n",
    "import matplotlib.pyplot as plt\r\n",
    "\r\n",
    "from tqdm import tqdm\r\n",
    "from keras.preprocessing import image\r\n",
    "from sklearn.preprocessing import label_binarize\r\n",
    "from sklearn.model_selection import train_test_split\r\n",
    "from keras.models import Sequential\r\n",
    "from keras.layers import Dense, Dropout, Flatten, Conv2D, MaxPool2D\r\n",
    "from keras.optimizers import Adam"
   ]
  },
  {
   "cell_type": "code",
   "execution_count": null,
   "metadata": {
    "id": "vrZIWCO4wEFn"
   },
   "outputs": [],
   "source": [
    "\n",
    "labels_all = pd.read_csv(\"dog_dataset/labels.csv\")\r\n",
    "print(labels_all.shape)\r\n",
    "labels_all.head()"
   ]
  },
  {
   "cell_type": "code",
   "execution_count": null,
   "metadata": {
    "id": "xgoPji7ywRjX"
   },
   "outputs": [],
   "source": [
    "\n",
    "breeds_all = labels_all[\"breed\"]\r\n",
    "breed_counts = breeds_all.value_counts()\r\n",
    "breed_counts.head()"
   ]
  },
  {
   "cell_type": "code",
   "execution_count": null,
   "metadata": {
    "id": "2J7x-UVxwVs6"
   },
   "outputs": [],
   "source": [
    "\n",
    "CLASS_NAMES = ['scottish_deerhound','maltese_dog','bernese_mountain_dog']\r\n",
    "labels = labels_all[(labels_all['breed'].isin(CLASS_NAMES))]\r\n",
    "labels = labels.reset_index()\r\n",
    "labels.head()"
   ]
  },
  {
   "cell_type": "code",
   "execution_count": null,
   "metadata": {
    "id": "vR0_yYY9w_y8"
   },
   "outputs": [],
   "source": [
    "\n",
    "X_data = np.zeros((len(labels), 224, 224, 3), dtype='float32')g\r\n",
    "Y_data = label_binarize(labels['breed'], classes = CLASS_NAMESaset\r\n",
    "for i in tqdm(range(len(labels))):\r\n",
    "    img = image.load_img('dog_dataset/train/%s.jpg' % labels['id'][i], target_size=(224, 224))\r\n",
    "    img = image.img_to_array(img)\r\n",
    "    x = np.expand_dims(img.copy(), axis=0)\r\n",
    "    X_data[i] = x / 2hape & size\r\n",
    "print('\\nTrain Images shape: ',X_data.shape,' size: {:,}'.format(X_data.size))\r\n",
    "print('One-hot encoded output shape: ',Y_data.shape,' size: {:,}'.format(Y_data.size))"
   ]
  },
  {
   "cell_type": "code",
   "execution_count": null,
   "metadata": {
    "id": "3Xvd5r4MxcLJ"
   },
   "outputs": [],
   "source": [
    "\n",
    "model = Sequential()\r\n",
    "\r\n",
    "model.add(Conv2D(filters = 64, kernel_size = (5,5), activation ='relu', input_shape = (224,224,3)))\r\n",
    "model.add(MaxPool2D(pool_size=(2,2)))\r\n",
    "\r\n",
    "model.add(Conv2D(filters = 32, kernel_size = (3,3), activation ='relu', kernel_regularizer = 'l2'))\r\n",
    "model.add(MaxPool2D(pool_size=(2,2)))\r\n",
    "\r\n",
    "model.add(Conv2D(filters = 16, kernel_size = (7,7), activation ='relu', kernel_regularizer = 'l2'))\r\n",
    "model.add(MaxPool2D(pool_size=(2,2)))\r\n",
    "\r\n",
    "model.add(Conv2D(filters = 8, kernel_size = (5,5), activation ='relu', kernel_regularizer = 'l2'))\r\n",
    "model.add(MaxPool2D(pool_size=(2,2)))\r\n",
    "\r\n",
    "model.add(Flatten())\r\n",
    "model.add(Dense(128, activation = \"relu\", kernel_regularizer = 'l2'))\r\n",
    "model.add(Dense(64, activation = \"relu\", kernel_regularizer = 'l2'))\r\n",
    "model.add(Dense(len(CLASS_NAMES), activation = \"softmax\"))\r\n",
    "\r\n",
    "model.compile(loss = 'categorical_crossentropy', optimizer = Adam(0.0001),metrics=['accuracy'])\r\n",
    "\r\n",
    "model.summary()"
   ]
  },
  {
   "cell_type": "code",
   "execution_count": null,
   "metadata": {
    "id": "z2OwiYRrxxJ_"
   },
   "outputs": [],
   "source": [
    "\n",
    "X_train_and_val, X_test, Y_train_and_val, Y_test = train_test_split(X_data, Y_data, test_size = 0.1)s\r\n",
    "X_train, X_val, Y_train, Y_val = train_test_split(X_train_and_val, Y_train_and_val, test_size = 0.2)"
   ]
  },
  {
   "cell_type": "code",
   "execution_count": null,
   "metadata": {
    "id": "Kzq2hLsGyFTr"
   },
   "outputs": [],
   "source": [
    "\n",
    "epochs = 100\r\n",
    "batch_size = 128\r\n",
    "\r\n",
    "history = model.fit(X_train, Y_train, batch_size = batch_size, epochs = epochs, \r\n",
    "                    validation_data = (X_val, Y_val))"
   ]
  },
  {
   "cell_type": "code",
   "execution_count": null,
   "metadata": {
    "id": "BvK8_JKKyLJJ"
   },
   "outputs": [],
   "source": [
    "\n",
    "plt.figure(figsize=(12, 5))\r\n",
    "plt.plot(history.history['accuracy'], color='r')\r\n",
    "plt.plot(history.history['val_accuracy'], color='b')\r\n",
    "plt.title('Model Accuracy')\r\n",
    "plt.ylabel('Accuracy')\r\n",
    "plt.xlabel('Epochs')\r\n",
    "plt.legend(['train', 'val'])\r\n",
    "\r\n",
    "plt.show()"
   ]
  },
  {
   "cell_type": "code",
   "execution_count": null,
   "metadata": {
    "id": "xXpyaiyeykly"
   },
   "outputs": [],
   "source": [
    "Y_pred = model.predict(X_test)\r\n",
    "score = model.evaluate(X_test, Y_test)\r\n",
    "print('Accuracy over the test set: \\n ', round((score[1]*100), 2), '%')"
   ]
  },
  {
   "cell_type": "code",
   "execution_count": null,
   "metadata": {
    "id": "nY-jB9t5ylME"
   },
   "outputs": [],
   "source": [
    "\n",
    "plt.imshow(X_test[1,:,:,:])\r\n",
    "plt.show()ted\r\n",
    "print(\"Originally : \",labels['breed'][np.argmax(Y_test[1])])\r\n",
    "print(\"Predicted : \",labels['breed'][np.argmax(Y_pred[1])])"
   ]
  },
  {
   "cell_type": "code",
   "execution_count": null,
   "metadata": {
    "id": "Y9hIc_hzQDoB"
   },
   "outputs": [],
   "source": []
  }
 ],
 "metadata": {
  "colab": {
   "collapsed_sections": [],
   "name": "Dog Breed Prediction.ipynb",
   "provenance": []
  },
  "kernelspec": {
   "display_name": "Python 3",
   "language": "python",
   "name": "python3"
  },
  "language_info": {
   "codemirror_mode": {
    "name": "ipython",
    "version": 3
   },
   "file_extension": ".py",
   "mimetype": "text/x-python",
   "name": "python",
   "nbconvert_exporter": "python",
   "pygments_lexer": "ipython3",
   "version": "3.8.8"
  }
 },
 "nbformat": 4,
 "nbformat_minor": 4
}
